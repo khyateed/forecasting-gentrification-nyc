{
 "cells": [
  {
   "cell_type": "code",
   "execution_count": 6,
   "id": "c8c6ddf9-ceb8-4096-8e6a-ed9a3b5fa9d9",
   "metadata": {},
   "outputs": [],
   "source": [
    "import pandas as pd\n",
    "import datetime as dt\n",
    "import geopandas as gpd\n",
    "from shapely.geometry import Point"
   ]
  },
  {
   "cell_type": "code",
   "execution_count": 25,
   "id": "d79455c7-61d8-4d7b-aca3-f1d3a122f788",
   "metadata": {},
   "outputs": [],
   "source": [
    "rent = pd.read_csv('Data/Raw/zillow_data.csv')\n",
    "rent = rent[rent.City=='New York']\n",
    "rent.drop(['RegionID', 'SizeRank', 'RegionType', 'StateName',\n",
    "       'State', 'City', 'Metro', 'CountyName'], axis=1, inplace=True)\n"
   ]
  },
  {
   "cell_type": "code",
   "execution_count": 26,
   "id": "b52f9427-99e5-41a7-b22c-2d7278aa14cd",
   "metadata": {},
   "outputs": [],
   "source": [
    "# group by year and get average\n",
    "\n",
    "df = rent.melt(id_vars='RegionName',var_name='year',value_name='med_rent')\n",
    "df['year'] = pd.to_datetime(df['year']).dt.year\n",
    "df = df.groupby(['RegionName','year'])['med_rent'].mean().reset_index()  # get the average of that year for that zipcode\n",
    "df.RegionName = df.RegionName.astype(str)\n",
    "df['year'] = pd.to_datetime(df['year'].astype(str))\n"
   ]
  },
  {
   "cell_type": "markdown",
   "id": "d19c3408-161d-4d17-bfe9-40070aacca09",
   "metadata": {},
   "source": [
    "### Add Missing years "
   ]
  },
  {
   "cell_type": "code",
   "execution_count": 27,
   "id": "2215216b-34c4-4e54-9d7c-f0053095864f",
   "metadata": {},
   "outputs": [
    {
     "data": {
      "text/html": [
       "<div>\n",
       "<style scoped>\n",
       "    .dataframe tbody tr th:only-of-type {\n",
       "        vertical-align: middle;\n",
       "    }\n",
       "\n",
       "    .dataframe tbody tr th {\n",
       "        vertical-align: top;\n",
       "    }\n",
       "\n",
       "    .dataframe thead th {\n",
       "        text-align: right;\n",
       "    }\n",
       "</style>\n",
       "<table border=\"1\" class=\"dataframe\">\n",
       "  <thead>\n",
       "    <tr style=\"text-align: right;\">\n",
       "      <th></th>\n",
       "      <th>RegionName</th>\n",
       "      <th>year</th>\n",
       "      <th>med_rent</th>\n",
       "    </tr>\n",
       "  </thead>\n",
       "  <tbody>\n",
       "    <tr>\n",
       "      <th>2180</th>\n",
       "      <td>11694</td>\n",
       "      <td>2015-01-01</td>\n",
       "      <td>NaN</td>\n",
       "    </tr>\n",
       "    <tr>\n",
       "      <th>2181</th>\n",
       "      <td>11694</td>\n",
       "      <td>2016-01-01</td>\n",
       "      <td>NaN</td>\n",
       "    </tr>\n",
       "    <tr>\n",
       "      <th>2182</th>\n",
       "      <td>11694</td>\n",
       "      <td>2017-01-01</td>\n",
       "      <td>NaN</td>\n",
       "    </tr>\n",
       "    <tr>\n",
       "      <th>2183</th>\n",
       "      <td>11694</td>\n",
       "      <td>2018-01-01</td>\n",
       "      <td>NaN</td>\n",
       "    </tr>\n",
       "    <tr>\n",
       "      <th>2184</th>\n",
       "      <td>11694</td>\n",
       "      <td>2019-01-01</td>\n",
       "      <td>NaN</td>\n",
       "    </tr>\n",
       "    <tr>\n",
       "      <th>2185</th>\n",
       "      <td>11694</td>\n",
       "      <td>2020-01-01</td>\n",
       "      <td>NaN</td>\n",
       "    </tr>\n",
       "    <tr>\n",
       "      <th>2186</th>\n",
       "      <td>11694</td>\n",
       "      <td>2021-01-01</td>\n",
       "      <td>NaN</td>\n",
       "    </tr>\n",
       "    <tr>\n",
       "      <th>2187</th>\n",
       "      <td>11694</td>\n",
       "      <td>2022-01-01</td>\n",
       "      <td>NaN</td>\n",
       "    </tr>\n",
       "    <tr>\n",
       "      <th>2188</th>\n",
       "      <td>11694</td>\n",
       "      <td>2023-01-01</td>\n",
       "      <td>NaN</td>\n",
       "    </tr>\n",
       "    <tr>\n",
       "      <th>2189</th>\n",
       "      <td>11694</td>\n",
       "      <td>2024-01-01</td>\n",
       "      <td>2733.333333</td>\n",
       "    </tr>\n",
       "  </tbody>\n",
       "</table>\n",
       "</div>"
      ],
      "text/plain": [
       "     RegionName       year     med_rent\n",
       "2180      11694 2015-01-01          NaN\n",
       "2181      11694 2016-01-01          NaN\n",
       "2182      11694 2017-01-01          NaN\n",
       "2183      11694 2018-01-01          NaN\n",
       "2184      11694 2019-01-01          NaN\n",
       "2185      11694 2020-01-01          NaN\n",
       "2186      11694 2021-01-01          NaN\n",
       "2187      11694 2022-01-01          NaN\n",
       "2188      11694 2023-01-01          NaN\n",
       "2189      11694 2024-01-01  2733.333333"
      ]
     },
     "execution_count": 27,
     "metadata": {},
     "output_type": "execute_result"
    }
   ],
   "source": [
    "# expand date range to 2010\n",
    "\n",
    "full_date_range = pd.date_range(start='2010-01-01', end='2024-01-01', freq='YS')\n",
    "more_yrs = df.groupby('RegionName')[['year','med_rent']].apply(lambda x: x.set_index('year').reindex(full_date_range))\n",
    "more_yrs = more_yrs.reset_index().rename(columns={'level_1':'year'})\n",
    "more_yrs[-10:]"
   ]
  },
  {
   "cell_type": "code",
   "execution_count": 28,
   "id": "40cc19fa-8d5d-451f-9fc5-74e92327caff",
   "metadata": {},
   "outputs": [],
   "source": [
    "# # interpolate missing values TODO: interpolate using trend/percent change instead of just backfilling repeat value\n",
    "\n",
    "# df = more_yrs.groupby('RegionName')[['year','med_rent']].apply(lambda x: x.bfill()).reset_index().drop('level_1', axis=1)\n",
    "# df"
   ]
  },
  {
   "cell_type": "markdown",
   "id": "3701602e-38e1-48bc-a28c-e592620b43d0",
   "metadata": {},
   "source": [
    "### Match Zip Codes to CT's  "
   ]
  },
  {
   "cell_type": "code",
   "execution_count": 29,
   "id": "b42a7351-0527-4a88-9e8b-f3d9fab9f704",
   "metadata": {},
   "outputs": [],
   "source": [
    "# get census tract to ZCTA conversion\n",
    "\n",
    "# Load the shapefiles\n",
    "tracts = gpd.read_file('Data/Raw/tracts2020_shapefile/nyct2020.shp')\n",
    "tracts = tracts.to_crs(epsg = 4326)\n",
    "zips = gpd.read_file('Data/Raw/zcta2020_shapefile/tl_2020_us_zcta520.shp')\n",
    "zips = zips.to_crs(epsg = 4326)\n",
    "\n",
    "# join files together on intersecion\n",
    "mapping = gpd.sjoin(zips, tracts, how='inner', predicate=\"intersects\")[['ZCTA5CE20','GEOID']]\n",
    "mapping\n",
    "\n",
    "# add census tract to main dataframe\n",
    "merged = df.merge(mapping, left_on='RegionName', right_on='ZCTA5CE20', how='left').drop(['ZCTA5CE20'],axis=1)"
   ]
  },
  {
   "cell_type": "code",
   "execution_count": 30,
   "id": "3582128b-8d77-44e3-8f30-5088726b68fc",
   "metadata": {},
   "outputs": [
    {
     "name": "stderr",
     "output_type": "stream",
     "text": [
      "/var/folders/w0/4r14_1sj0j7fl6nz7v1nwgkr0000gp/T/ipykernel_2445/2054869786.py:4: SettingWithCopyWarning: \n",
      "A value is trying to be set on a copy of a slice from a DataFrame\n",
      "\n",
      "See the caveats in the documentation: https://pandas.pydata.org/pandas-docs/stable/user_guide/indexing.html#returning-a-view-versus-a-copy\n",
      "  dff.sort_values('RegionName', inplace=True)\n",
      "/var/folders/w0/4r14_1sj0j7fl6nz7v1nwgkr0000gp/T/ipykernel_2445/2054869786.py:5: SettingWithCopyWarning: \n",
      "A value is trying to be set on a copy of a slice from a DataFrame\n",
      "\n",
      "See the caveats in the documentation: https://pandas.pydata.org/pandas-docs/stable/user_guide/indexing.html#returning-a-view-versus-a-copy\n",
      "  dff.drop_duplicates(['year','GEOID'], inplace=True)  # same zip code is matching with multiple CT's so we drop dupes randomly\n"
     ]
    }
   ],
   "source": [
    "# remove 2024\n",
    "merged['year'] = pd.to_datetime(merged['year']).dt.year\n",
    "dff = merged[merged.year.isin([2024])==False]\n",
    "dff.sort_values('RegionName', inplace=True)\n",
    "dff.drop_duplicates(['year','GEOID'], inplace=True)  # same zip code is matching with multiple CT's so we drop dupes randomly\n"
   ]
  },
  {
   "cell_type": "code",
   "execution_count": 33,
   "id": "7e62d99a-ede6-421c-8046-2bfeecbcdf37",
   "metadata": {},
   "outputs": [
    {
     "name": "stderr",
     "output_type": "stream",
     "text": [
      "/var/folders/w0/4r14_1sj0j7fl6nz7v1nwgkr0000gp/T/ipykernel_2445/3222166223.py:2: SettingWithCopyWarning: \n",
      "A value is trying to be set on a copy of a slice from a DataFrame\n",
      "\n",
      "See the caveats in the documentation: https://pandas.pydata.org/pandas-docs/stable/user_guide/indexing.html#returning-a-view-versus-a-copy\n",
      "  dff.drop('RegionName', axis=1, inplace=True)\n",
      "/var/folders/w0/4r14_1sj0j7fl6nz7v1nwgkr0000gp/T/ipykernel_2445/3222166223.py:3: SettingWithCopyWarning: \n",
      "A value is trying to be set on a copy of a slice from a DataFrame.\n",
      "Try using .loc[row_indexer,col_indexer] = value instead\n",
      "\n",
      "See the caveats in the documentation: https://pandas.pydata.org/pandas-docs/stable/user_guide/indexing.html#returning-a-view-versus-a-copy\n",
      "  dff['year'] = dff['year'].astype(str)\n"
     ]
    },
    {
     "data": {
      "text/html": [
       "<div>\n",
       "<style scoped>\n",
       "    .dataframe tbody tr th:only-of-type {\n",
       "        vertical-align: middle;\n",
       "    }\n",
       "\n",
       "    .dataframe tbody tr th {\n",
       "        vertical-align: top;\n",
       "    }\n",
       "\n",
       "    .dataframe thead th {\n",
       "        text-align: right;\n",
       "    }\n",
       "</style>\n",
       "<table border=\"1\" class=\"dataframe\">\n",
       "  <thead>\n",
       "    <tr style=\"text-align: right;\">\n",
       "      <th></th>\n",
       "      <th>year</th>\n",
       "      <th>med_rent</th>\n",
       "      <th>GEOID</th>\n",
       "    </tr>\n",
       "  </thead>\n",
       "  <tbody>\n",
       "    <tr>\n",
       "      <th>0</th>\n",
       "      <td>2015</td>\n",
       "      <td>4040.470666</td>\n",
       "      <td>36061005600</td>\n",
       "    </tr>\n",
       "    <tr>\n",
       "      <th>104</th>\n",
       "      <td>2020</td>\n",
       "      <td>3889.975996</td>\n",
       "      <td>36061009902</td>\n",
       "    </tr>\n",
       "    <tr>\n",
       "      <th>105</th>\n",
       "      <td>2020</td>\n",
       "      <td>3889.975996</td>\n",
       "      <td>36061009903</td>\n",
       "    </tr>\n",
       "    <tr>\n",
       "      <th>106</th>\n",
       "      <td>2020</td>\n",
       "      <td>3889.975996</td>\n",
       "      <td>36061011700</td>\n",
       "    </tr>\n",
       "    <tr>\n",
       "      <th>107</th>\n",
       "      <td>2020</td>\n",
       "      <td>3889.975996</td>\n",
       "      <td>36061008200</td>\n",
       "    </tr>\n",
       "    <tr>\n",
       "      <th>...</th>\n",
       "      <td>...</td>\n",
       "      <td>...</td>\n",
       "      <td>...</td>\n",
       "    </tr>\n",
       "    <tr>\n",
       "      <th>36847</th>\n",
       "      <td>2017</td>\n",
       "      <td>NaN</td>\n",
       "      <td>36081093401</td>\n",
       "    </tr>\n",
       "    <tr>\n",
       "      <th>36846</th>\n",
       "      <td>2017</td>\n",
       "      <td>NaN</td>\n",
       "      <td>36081092800</td>\n",
       "    </tr>\n",
       "    <tr>\n",
       "      <th>36845</th>\n",
       "      <td>2017</td>\n",
       "      <td>NaN</td>\n",
       "      <td>36081092200</td>\n",
       "    </tr>\n",
       "    <tr>\n",
       "      <th>36855</th>\n",
       "      <td>2018</td>\n",
       "      <td>NaN</td>\n",
       "      <td>36081091800</td>\n",
       "    </tr>\n",
       "    <tr>\n",
       "      <th>36918</th>\n",
       "      <td>2023</td>\n",
       "      <td>NaN</td>\n",
       "      <td>36081094202</td>\n",
       "    </tr>\n",
       "  </tbody>\n",
       "</table>\n",
       "<p>19440 rows × 3 columns</p>\n",
       "</div>"
      ],
      "text/plain": [
       "       year     med_rent        GEOID\n",
       "0      2015  4040.470666  36061005600\n",
       "104    2020  3889.975996  36061009902\n",
       "105    2020  3889.975996  36061009903\n",
       "106    2020  3889.975996  36061011700\n",
       "107    2020  3889.975996  36061008200\n",
       "...     ...          ...          ...\n",
       "36847  2017          NaN  36081093401\n",
       "36846  2017          NaN  36081092800\n",
       "36845  2017          NaN  36081092200\n",
       "36855  2018          NaN  36081091800\n",
       "36918  2023          NaN  36081094202\n",
       "\n",
       "[19440 rows x 3 columns]"
      ]
     },
     "execution_count": 33,
     "metadata": {},
     "output_type": "execute_result"
    }
   ],
   "source": [
    "# adjust dtype\n",
    "dff.drop('RegionName', axis=1, inplace=True)\n",
    "dff['year'] = dff['year'].astype(str)\n",
    "dff"
   ]
  },
  {
   "cell_type": "code",
   "execution_count": 34,
   "id": "5cd749e7-4148-4dbb-947e-e561a8dd3a47",
   "metadata": {},
   "outputs": [],
   "source": [
    "# dff.to_parquet('Data/Cleaned/zillow_clean.parquet')"
   ]
  },
  {
   "cell_type": "code",
   "execution_count": null,
   "id": "ce280a6e-8355-4f98-8986-e69fbb3c72b9",
   "metadata": {},
   "outputs": [],
   "source": []
  }
 ],
 "metadata": {
  "kernelspec": {
   "display_name": "Python 3 (ipykernel)",
   "language": "python",
   "name": "python3"
  },
  "language_info": {
   "codemirror_mode": {
    "name": "ipython",
    "version": 3
   },
   "file_extension": ".py",
   "mimetype": "text/x-python",
   "name": "python",
   "nbconvert_exporter": "python",
   "pygments_lexer": "ipython3",
   "version": "3.12.2"
  }
 },
 "nbformat": 4,
 "nbformat_minor": 5
}

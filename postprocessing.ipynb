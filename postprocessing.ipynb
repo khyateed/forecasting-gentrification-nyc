{
 "cells": [
  {
   "cell_type": "code",
   "execution_count": 200,
   "id": "781ab910-f32a-4ca3-9b4e-9eb0dd3f6129",
   "metadata": {},
   "outputs": [],
   "source": [
    "import pandas as pd\n",
    "import numpy as np\n",
    "import sklearn\n",
    "from sklearn.linear_model import LinearRegression, LogisticRegression\n",
    "from sklearn.metrics import accuracy_score, recall_score, precision_score"
   ]
  },
  {
   "cell_type": "markdown",
   "id": "c5b608e1-fb7b-499b-bbc5-74b7d3f141fb",
   "metadata": {},
   "source": [
    "## Import Cleaned Data"
   ]
  },
  {
   "cell_type": "code",
   "execution_count": 226,
   "id": "bc149cd2-841b-43fa-996c-c20c3bae675e",
   "metadata": {},
   "outputs": [
    {
     "data": {
      "text/plain": [
       "(19286, 20)"
      ]
     },
     "execution_count": 226,
     "metadata": {},
     "output_type": "execute_result"
    }
   ],
   "source": [
    "acs = pd.read_parquet(\"Data/Cleaned/ACS.parquet\")\n",
    "citi =  pd.read_parquet(\"Data/Cleaned/Citibike_Clean/citibike_all_processed.parquet\")\n",
    "\n",
    "# merge df's together on hard tract name (with decimal points)\n",
    "\n",
    "df = acs.merge(citi, left_on=['full_tract','year'], right_on=['Tract','Year'], how='left')\n",
    "df.drop(['Tract','Year'],axis=1,inplace=True)\n",
    "\n",
    "\n",
    "## Add Tree Census\n",
    "\n",
    "tree = pd.read_parquet(\"Data/Cleaned/tree_census.parquet\")\n",
    "tree['year'] = tree['year'].astype(str)\n",
    "df = df.merge(tree, on=['full_tract', 'year'], how='left')\n",
    "df['num_trees'] = df['num_trees'].fillna(0) #### TODO: fill tree nans with the average of that area\n",
    "df.shape"
   ]
  },
  {
   "cell_type": "markdown",
   "id": "af6b9492-a032-405a-9d4e-aba4caef10b1",
   "metadata": {},
   "source": [
    "## Outliers"
   ]
  },
  {
   "cell_type": "code",
   "execution_count": 227,
   "id": "21e25aa6-6c7a-4be2-844c-b53f634e4830",
   "metadata": {},
   "outputs": [],
   "source": [
    "# replace all outliers with a common value\n",
    "\n",
    "df['med_hh_residence'] = np.where(df['med_hh_residence']>666668689, -999, df['med_hh_residence'])\n",
    "df['med_income'] = df['med_income'].astype(float)\n",
    "for col in ['med_income','med_value','med_hh_age']:\n",
    "    df[col] = np.where(df[col]<0, -999, df[col])\n",
    "\n",
    "\n",
    "# change house age of 2024 to zero\n",
    "\n",
    "df.loc[df['med_hh_age']>1000, 'med_hh_age'] = 2024-df.loc[df['med_hh_age']>1000, 'med_hh_age']\n",
    "\n",
    "\n",
    "# replace missing values with the mean of that year. TODO: interpolate missing vals with padded years\n",
    "\n",
    "for yr in df.year.unique():\n",
    "    for col in ['med_value','med_hh_age','med_income','med_hh_residence']:\n",
    "        mean = df[df.year==yr][col].mean()\n",
    "        df.loc[df.year==yr, col] = df.loc[df.year==yr, col].replace(to_replace= -999, value=mean)"
   ]
  },
  {
   "cell_type": "markdown",
   "id": "f09af6a4-6278-4e04-b0ba-6ce30f0b354f",
   "metadata": {},
   "source": [
    "## Normalize"
   ]
  },
  {
   "cell_type": "code",
   "execution_count": 228,
   "id": "37c1016f-48e2-4e6a-a47c-65689b6439ba",
   "metadata": {},
   "outputs": [],
   "source": [
    "# # normalize certain columns\n",
    "\n",
    "# for yr in df.year.unique():\n",
    "#     yr_df = df[df.year == yr]\n",
    "#     for col in ['med_income','med_value','med_hh_age','med_hh_residence','num_trees']:\n",
    "#         yr_df[col] = yr_df[col].astype(float)\n",
    "#         yr_df[col] = (yr_df[col] - yr_df[col].min()) / (yr_df[col].max() - yr_df[col].min())\n",
    "#     dropped = df.drop(df.iloc[yr_df.index].index)  # drop that year from main df\n",
    "#     df = pd.concat([dropped, yr_df]).reset_index(drop=True)  # add that year back\n",
    "# df.sort_values(['full_tract','year'], inplace=True)"
   ]
  },
  {
   "cell_type": "markdown",
   "id": "2689d90f-551e-4bd2-9299-ada1b48702f8",
   "metadata": {},
   "source": [
    "### Limit Dataset to CT's that have not gentrified anytime in past decade \n",
    "- The tract had a population of at least 500 residents at the beginning and end of a decade and was located within a central city. \n",
    "- The tract’s median household income was in the bottom 40th percentile when compared to all tracts within its metro area at the beginning of the decade.\n",
    "- The tract’s median home value was in the bottom 40th percentile when compared to all tracts within its metro area at the beginning of the decade.\n",
    "\n",
    "https://www.governing.com/archive/gentrification-report-methodology.html\n"
   ]
  },
  {
   "cell_type": "code",
   "execution_count": 233,
   "id": "2ee609cc-8a2a-414f-95ab-7729bcabea9e",
   "metadata": {},
   "outputs": [
    {
     "data": {
      "text/plain": [
       "(12836, 20)"
      ]
     },
     "execution_count": 233,
     "metadata": {},
     "output_type": "execute_result"
    }
   ],
   "source": [
    "# TODO: figure out if dollar amounts in ACS are inflation adjusted or not\n",
    "\n",
    "bottom_income = df.med_income.quantile(.5)\n",
    "\n",
    "\n",
    "# define eligible column if tract meets all criteria\n",
    "df['eligible'] = np.where((df.med_income<=bottom_income)|\n",
    "                                 (df.percent_black>.4) |\n",
    "                                 (df.percent_latino>.4), 1, 0)\n",
    "\n",
    "eligible_tracts = df[df['eligible']==1]['full_tract'].unique()\n",
    "df = df[df.full_tract.isin(eligible_tracts)].drop('eligible',axis=1)\n",
    "df.shape"
   ]
  },
  {
   "cell_type": "code",
   "execution_count": 234,
   "id": "d97e9d22-0ac3-4d90-8e07-9f5076f1485a",
   "metadata": {},
   "outputs": [],
   "source": [
    "# df[df.full_tract=='047042300'] # my bushwick neighborhood\n",
    "# df[df.full_tract=='047026500'] # my bedstuy neighborhood"
   ]
  },
  {
   "cell_type": "markdown",
   "id": "23873872-9114-46d6-8c9a-1e61fee9fba1",
   "metadata": {},
   "source": [
    "## Generate Label\n",
    "### Determine if a tract is gentrified in present\n",
    "- An increase in a tract's percent bachelor’s degrees was in the top third percentile of all tracts within a metro area.\n",
    "- Increase in percent white is in top 3rd percentile\n",
    "- The percentage increase in a tract’s inflation-adjusted median income was in the top third percentile of all tracts within a metro area."
   ]
  },
  {
   "cell_type": "code",
   "execution_count": 235,
   "id": "256536db-1767-4daa-b0c2-139b7e9d33d7",
   "metadata": {},
   "outputs": [
    {
     "name": "stderr",
     "output_type": "stream",
     "text": [
      "/var/folders/w0/4r14_1sj0j7fl6nz7v1nwgkr0000gp/T/ipykernel_19851/3125558451.py:5: FutureWarning: The default fill_method='pad' in Series.pct_change is deprecated and will be removed in a future version. Either fill in any non-leading NA values prior to calling pct_change or specify 'fill_method=None' to not fill NA values.\n",
      "  pct_chg = df.drop(['NAME','year'], axis=1).groupby('full_tract').agg(lambda x: x.pct_change().mean())\n"
     ]
    }
   ],
   "source": [
    "# fill zeros with nan so we can calculate percent change\n",
    "df.replace(0, np.nan, inplace=True)\n",
    "\n",
    "# get average percent change over ALL years\n",
    "pct_chg = df.drop(['NAME','year'], axis=1).groupby('full_tract').agg(lambda x: x.pct_change().mean())\n",
    "pct_chg.dropna(how='all', inplace=True)\n",
    "pct_chg.fillna(0, inplace=True)"
   ]
  },
  {
   "cell_type": "code",
   "execution_count": 243,
   "id": "d9188d5d-ae4c-4adb-a119-3974ceb35b4c",
   "metadata": {},
   "outputs": [
    {
     "data": {
      "text/plain": [
       "gentrified\n",
       "1    802\n",
       "0    700\n",
       "Name: count, dtype: int64"
      ]
     },
     "execution_count": 243,
     "metadata": {},
     "output_type": "execute_result"
    }
   ],
   "source": [
    "# Set thresholds. If overall %change is greater than thresholds, we consider tract gentrified\n",
    "\n",
    "# top_third_white\n",
    "pos = pct_chg[pct_chg.percent_white>=0]\n",
    "top_third_white = pos.percent_white.quantile(.666)\n",
    "\n",
    "# top_third_bach\n",
    "pos = pct_chg[pct_chg.percent_bachelors>=0]\n",
    "top_third_bach = pos.percent_bachelors.quantile(.666)\n",
    "\n",
    "# top_third_income\n",
    "pos = pct_chg[pct_chg.med_income>=0]\n",
    "top_third_income = pos.med_income.quantile(.666)\n",
    "\n",
    "# define gentrified column if tract meets all criteria\n",
    "pct_chg['gentrified'] = np.where((pct_chg.percent_white>=top_third_white)|\n",
    "                                 (pct_chg.percent_bachelors>=top_third_bach)|\n",
    "                                 (pct_chg.med_income>=top_third_income), 1, 0)\n",
    "pct_chg.gentrified.value_counts()"
   ]
  },
  {
   "cell_type": "markdown",
   "id": "214e5b13-4b04-42d6-9576-b1f0fcc51b82",
   "metadata": {},
   "source": [
    "## Generate Features for X-Year Percent Change"
   ]
  },
  {
   "cell_type": "code",
   "execution_count": 244,
   "id": "04712a49-44fc-4d41-93ee-7cc72267ed17",
   "metadata": {},
   "outputs": [
    {
     "name": "stderr",
     "output_type": "stream",
     "text": [
      "/var/folders/w0/4r14_1sj0j7fl6nz7v1nwgkr0000gp/T/ipykernel_19851/2927366931.py:4: FutureWarning: The default of observed=False is deprecated and will be changed to True in a future version of pandas. Pass observed=False to retain current behavior or observed=True to adopt the future default and silence this warning.\n",
      "  df = df.drop(['NAME','year'], axis=1).groupby(['full_tract','year_bins']).agg(lambda x: x.pct_change().mean())\n",
      "/var/folders/w0/4r14_1sj0j7fl6nz7v1nwgkr0000gp/T/ipykernel_19851/2927366931.py:4: FutureWarning: The default fill_method='pad' in Series.pct_change is deprecated and will be removed in a future version. Either fill in any non-leading NA values prior to calling pct_change or specify 'fill_method=None' to not fill NA values.\n",
      "  df = df.drop(['NAME','year'], axis=1).groupby(['full_tract','year_bins']).agg(lambda x: x.pct_change().mean())\n"
     ]
    }
   ],
   "source": [
    "# create era buckets # TODO we have missing years which will mess up binning. need to interpolate missing years\n",
    "df['year_bins'] = pd.cut(df['year'].astype(int), bins=2)\n",
    "\n",
    "df = df.drop(['NAME','year'], axis=1).groupby(['full_tract','year_bins']).agg(lambda x: x.pct_change().mean())\n"
   ]
  },
  {
   "cell_type": "code",
   "execution_count": 246,
   "id": "739f0e9e-35fb-462d-8c72-08a501b2ea34",
   "metadata": {},
   "outputs": [],
   "source": [
    "# drop rows that became entirely null bc of the pairwise % change\n",
    "df.dropna(how='all',subset=['percent_white', 'percent_black',\n",
    "       'percent_native', 'percent_asian', 'percent_pacific', 'percent_latino',\n",
    "       'percent_bachelors', 'percent_grad', 'percent_instate', 'med_income',\n",
    "       'percent_owned', 'percent_rented', 'med_value', 'med_hh_age',\n",
    "       'med_hh_residence', 'Proportion_citibike_rides', 'num_trees'], inplace=True)\n",
    "\n",
    "# df = df.drop('year_bins', axis=1)\n",
    "df.fillna(0, inplace=True)\n"
   ]
  },
  {
   "cell_type": "markdown",
   "id": "b3ba0af7-99c0-47a3-864e-e380260482f9",
   "metadata": {},
   "source": [
    "## Feature for proximity to other gentrified CT's"
   ]
  },
  {
   "cell_type": "code",
   "execution_count": null,
   "id": "53ef0dcc-3081-4a6c-94e2-600bed98fbae",
   "metadata": {},
   "outputs": [],
   "source": []
  },
  {
   "cell_type": "markdown",
   "id": "46d4bdf1-06c2-42c8-a5ca-2bb751f03ee1",
   "metadata": {},
   "source": [
    "### Add labels back into dataset"
   ]
  },
  {
   "cell_type": "code",
   "execution_count": 247,
   "id": "556c10db-4556-45dc-9f1c-be3d1c5f37e0",
   "metadata": {},
   "outputs": [
    {
     "data": {
      "text/html": [
       "<div>\n",
       "<style scoped>\n",
       "    .dataframe tbody tr th:only-of-type {\n",
       "        vertical-align: middle;\n",
       "    }\n",
       "\n",
       "    .dataframe tbody tr th {\n",
       "        vertical-align: top;\n",
       "    }\n",
       "\n",
       "    .dataframe thead th {\n",
       "        text-align: right;\n",
       "    }\n",
       "</style>\n",
       "<table border=\"1\" class=\"dataframe\">\n",
       "  <thead>\n",
       "    <tr style=\"text-align: right;\">\n",
       "      <th></th>\n",
       "      <th>full_tract</th>\n",
       "      <th>year_bins</th>\n",
       "      <th>percent_white</th>\n",
       "      <th>percent_black</th>\n",
       "      <th>percent_native</th>\n",
       "      <th>percent_asian</th>\n",
       "      <th>percent_pacific</th>\n",
       "      <th>percent_latino</th>\n",
       "      <th>percent_bachelors</th>\n",
       "      <th>percent_grad</th>\n",
       "      <th>percent_instate</th>\n",
       "      <th>med_income</th>\n",
       "      <th>percent_owned</th>\n",
       "      <th>percent_rented</th>\n",
       "      <th>med_value</th>\n",
       "      <th>med_hh_age</th>\n",
       "      <th>med_hh_residence</th>\n",
       "      <th>Proportion_citibike_rides</th>\n",
       "      <th>num_trees</th>\n",
       "      <th>gentrified</th>\n",
       "    </tr>\n",
       "  </thead>\n",
       "  <tbody>\n",
       "    <tr>\n",
       "      <th>0</th>\n",
       "      <td>005000200</td>\n",
       "      <td>(2009.988, 2016.0]</td>\n",
       "      <td>0.253498</td>\n",
       "      <td>-0.069683</td>\n",
       "      <td>-0.158731</td>\n",
       "      <td>0.045475</td>\n",
       "      <td>0.0</td>\n",
       "      <td>0.013086</td>\n",
       "      <td>0.054308</td>\n",
       "      <td>-0.001092</td>\n",
       "      <td>0.004986</td>\n",
       "      <td>0.039653</td>\n",
       "      <td>-0.097196</td>\n",
       "      <td>3.020267</td>\n",
       "      <td>0.011581</td>\n",
       "      <td>-0.026547</td>\n",
       "      <td>-0.016797</td>\n",
       "      <td>0.0</td>\n",
       "      <td>0.040706</td>\n",
       "      <td>1</td>\n",
       "    </tr>\n",
       "    <tr>\n",
       "      <th>1</th>\n",
       "      <td>005000200</td>\n",
       "      <td>(2016.0, 2022.0]</td>\n",
       "      <td>-0.252901</td>\n",
       "      <td>0.065308</td>\n",
       "      <td>0.000000</td>\n",
       "      <td>0.302025</td>\n",
       "      <td>0.0</td>\n",
       "      <td>-0.046746</td>\n",
       "      <td>0.089295</td>\n",
       "      <td>0.570415</td>\n",
       "      <td>0.045539</td>\n",
       "      <td>0.202648</td>\n",
       "      <td>0.056192</td>\n",
       "      <td>-0.058296</td>\n",
       "      <td>0.092322</td>\n",
       "      <td>0.017935</td>\n",
       "      <td>0.022222</td>\n",
       "      <td>0.0</td>\n",
       "      <td>0.039867</td>\n",
       "      <td>1</td>\n",
       "    </tr>\n",
       "    <tr>\n",
       "      <th>2</th>\n",
       "      <td>005000400</td>\n",
       "      <td>(2009.988, 2016.0]</td>\n",
       "      <td>0.401586</td>\n",
       "      <td>0.111454</td>\n",
       "      <td>0.106480</td>\n",
       "      <td>-0.076004</td>\n",
       "      <td>0.0</td>\n",
       "      <td>-0.024307</td>\n",
       "      <td>-0.021735</td>\n",
       "      <td>0.022121</td>\n",
       "      <td>0.007430</td>\n",
       "      <td>0.016922</td>\n",
       "      <td>-0.039718</td>\n",
       "      <td>0.446377</td>\n",
       "      <td>-0.025644</td>\n",
       "      <td>-0.091655</td>\n",
       "      <td>-0.023268</td>\n",
       "      <td>0.0</td>\n",
       "      <td>0.099676</td>\n",
       "      <td>0</td>\n",
       "    </tr>\n",
       "    <tr>\n",
       "      <th>3</th>\n",
       "      <td>005000400</td>\n",
       "      <td>(2016.0, 2022.0]</td>\n",
       "      <td>-0.228346</td>\n",
       "      <td>-0.007426</td>\n",
       "      <td>-0.078144</td>\n",
       "      <td>0.795912</td>\n",
       "      <td>0.0</td>\n",
       "      <td>0.004719</td>\n",
       "      <td>0.081381</td>\n",
       "      <td>0.001586</td>\n",
       "      <td>0.029837</td>\n",
       "      <td>0.051392</td>\n",
       "      <td>-0.054427</td>\n",
       "      <td>0.139137</td>\n",
       "      <td>0.066512</td>\n",
       "      <td>0.068320</td>\n",
       "      <td>-0.101504</td>\n",
       "      <td>0.0</td>\n",
       "      <td>0.057602</td>\n",
       "      <td>0</td>\n",
       "    </tr>\n",
       "    <tr>\n",
       "      <th>4</th>\n",
       "      <td>005001600</td>\n",
       "      <td>(2009.988, 2016.0]</td>\n",
       "      <td>0.206153</td>\n",
       "      <td>0.006892</td>\n",
       "      <td>0.000000</td>\n",
       "      <td>0.000000</td>\n",
       "      <td>0.0</td>\n",
       "      <td>0.016500</td>\n",
       "      <td>0.028395</td>\n",
       "      <td>-0.077970</td>\n",
       "      <td>-0.066064</td>\n",
       "      <td>0.009668</td>\n",
       "      <td>-0.185730</td>\n",
       "      <td>1.482936</td>\n",
       "      <td>0.004031</td>\n",
       "      <td>-0.021844</td>\n",
       "      <td>-0.050903</td>\n",
       "      <td>0.0</td>\n",
       "      <td>0.076535</td>\n",
       "      <td>1</td>\n",
       "    </tr>\n",
       "    <tr>\n",
       "      <th>...</th>\n",
       "      <td>...</td>\n",
       "      <td>...</td>\n",
       "      <td>...</td>\n",
       "      <td>...</td>\n",
       "      <td>...</td>\n",
       "      <td>...</td>\n",
       "      <td>...</td>\n",
       "      <td>...</td>\n",
       "      <td>...</td>\n",
       "      <td>...</td>\n",
       "      <td>...</td>\n",
       "      <td>...</td>\n",
       "      <td>...</td>\n",
       "      <td>...</td>\n",
       "      <td>...</td>\n",
       "      <td>...</td>\n",
       "      <td>...</td>\n",
       "      <td>...</td>\n",
       "      <td>...</td>\n",
       "      <td>...</td>\n",
       "    </tr>\n",
       "    <tr>\n",
       "      <th>2838</th>\n",
       "      <td>085031901</td>\n",
       "      <td>(2009.988, 2016.0]</td>\n",
       "      <td>0.042575</td>\n",
       "      <td>0.040157</td>\n",
       "      <td>0.009394</td>\n",
       "      <td>0.169419</td>\n",
       "      <td>0.0</td>\n",
       "      <td>0.017621</td>\n",
       "      <td>0.020415</td>\n",
       "      <td>-0.013871</td>\n",
       "      <td>0.092637</td>\n",
       "      <td>-0.044067</td>\n",
       "      <td>-0.072335</td>\n",
       "      <td>3.880733</td>\n",
       "      <td>-0.023403</td>\n",
       "      <td>-0.001047</td>\n",
       "      <td>-0.023516</td>\n",
       "      <td>0.0</td>\n",
       "      <td>0.051320</td>\n",
       "      <td>1</td>\n",
       "    </tr>\n",
       "    <tr>\n",
       "      <th>2839</th>\n",
       "      <td>085031901</td>\n",
       "      <td>(2016.0, 2022.0]</td>\n",
       "      <td>0.039764</td>\n",
       "      <td>-0.034771</td>\n",
       "      <td>0.000000</td>\n",
       "      <td>0.201792</td>\n",
       "      <td>0.0</td>\n",
       "      <td>-0.021121</td>\n",
       "      <td>0.133070</td>\n",
       "      <td>1.111323</td>\n",
       "      <td>0.231691</td>\n",
       "      <td>1.017562</td>\n",
       "      <td>0.069650</td>\n",
       "      <td>-0.020859</td>\n",
       "      <td>-0.036373</td>\n",
       "      <td>0.047410</td>\n",
       "      <td>0.066667</td>\n",
       "      <td>0.0</td>\n",
       "      <td>0.038259</td>\n",
       "      <td>1</td>\n",
       "    </tr>\n",
       "    <tr>\n",
       "      <th>2840</th>\n",
       "      <td>085031902</td>\n",
       "      <td>(2016.0, 2022.0]</td>\n",
       "      <td>-0.109198</td>\n",
       "      <td>-0.011178</td>\n",
       "      <td>0.054922</td>\n",
       "      <td>0.609157</td>\n",
       "      <td>0.0</td>\n",
       "      <td>0.016932</td>\n",
       "      <td>0.054347</td>\n",
       "      <td>-0.031721</td>\n",
       "      <td>0.007832</td>\n",
       "      <td>0.168562</td>\n",
       "      <td>0.043006</td>\n",
       "      <td>-0.038730</td>\n",
       "      <td>0.090462</td>\n",
       "      <td>-0.022576</td>\n",
       "      <td>-0.033905</td>\n",
       "      <td>0.0</td>\n",
       "      <td>0.040412</td>\n",
       "      <td>1</td>\n",
       "    </tr>\n",
       "    <tr>\n",
       "      <th>2841</th>\n",
       "      <td>085032300</td>\n",
       "      <td>(2009.988, 2016.0]</td>\n",
       "      <td>0.194134</td>\n",
       "      <td>0.218746</td>\n",
       "      <td>-0.924330</td>\n",
       "      <td>0.000000</td>\n",
       "      <td>0.0</td>\n",
       "      <td>-0.069739</td>\n",
       "      <td>-0.154394</td>\n",
       "      <td>0.330311</td>\n",
       "      <td>0.239880</td>\n",
       "      <td>0.611596</td>\n",
       "      <td>-0.154309</td>\n",
       "      <td>0.000000</td>\n",
       "      <td>0.079859</td>\n",
       "      <td>-0.073109</td>\n",
       "      <td>-0.094498</td>\n",
       "      <td>0.0</td>\n",
       "      <td>-0.047127</td>\n",
       "      <td>1</td>\n",
       "    </tr>\n",
       "    <tr>\n",
       "      <th>2842</th>\n",
       "      <td>085032300</td>\n",
       "      <td>(2016.0, 2022.0]</td>\n",
       "      <td>-0.113293</td>\n",
       "      <td>-0.026408</td>\n",
       "      <td>0.000000</td>\n",
       "      <td>0.394201</td>\n",
       "      <td>0.0</td>\n",
       "      <td>0.053408</td>\n",
       "      <td>0.139124</td>\n",
       "      <td>0.526447</td>\n",
       "      <td>0.001807</td>\n",
       "      <td>0.067841</td>\n",
       "      <td>0.010377</td>\n",
       "      <td>0.052080</td>\n",
       "      <td>0.024687</td>\n",
       "      <td>0.006843</td>\n",
       "      <td>0.000585</td>\n",
       "      <td>0.0</td>\n",
       "      <td>-0.019623</td>\n",
       "      <td>1</td>\n",
       "    </tr>\n",
       "  </tbody>\n",
       "</table>\n",
       "<p>2843 rows × 20 columns</p>\n",
       "</div>"
      ],
      "text/plain": [
       "     full_tract           year_bins  percent_white  percent_black  \\\n",
       "0     005000200  (2009.988, 2016.0]       0.253498      -0.069683   \n",
       "1     005000200    (2016.0, 2022.0]      -0.252901       0.065308   \n",
       "2     005000400  (2009.988, 2016.0]       0.401586       0.111454   \n",
       "3     005000400    (2016.0, 2022.0]      -0.228346      -0.007426   \n",
       "4     005001600  (2009.988, 2016.0]       0.206153       0.006892   \n",
       "...         ...                 ...            ...            ...   \n",
       "2838  085031901  (2009.988, 2016.0]       0.042575       0.040157   \n",
       "2839  085031901    (2016.0, 2022.0]       0.039764      -0.034771   \n",
       "2840  085031902    (2016.0, 2022.0]      -0.109198      -0.011178   \n",
       "2841  085032300  (2009.988, 2016.0]       0.194134       0.218746   \n",
       "2842  085032300    (2016.0, 2022.0]      -0.113293      -0.026408   \n",
       "\n",
       "      percent_native  percent_asian  percent_pacific  percent_latino  \\\n",
       "0          -0.158731       0.045475              0.0        0.013086   \n",
       "1           0.000000       0.302025              0.0       -0.046746   \n",
       "2           0.106480      -0.076004              0.0       -0.024307   \n",
       "3          -0.078144       0.795912              0.0        0.004719   \n",
       "4           0.000000       0.000000              0.0        0.016500   \n",
       "...              ...            ...              ...             ...   \n",
       "2838        0.009394       0.169419              0.0        0.017621   \n",
       "2839        0.000000       0.201792              0.0       -0.021121   \n",
       "2840        0.054922       0.609157              0.0        0.016932   \n",
       "2841       -0.924330       0.000000              0.0       -0.069739   \n",
       "2842        0.000000       0.394201              0.0        0.053408   \n",
       "\n",
       "      percent_bachelors  percent_grad  percent_instate  med_income  \\\n",
       "0              0.054308     -0.001092         0.004986    0.039653   \n",
       "1              0.089295      0.570415         0.045539    0.202648   \n",
       "2             -0.021735      0.022121         0.007430    0.016922   \n",
       "3              0.081381      0.001586         0.029837    0.051392   \n",
       "4              0.028395     -0.077970        -0.066064    0.009668   \n",
       "...                 ...           ...              ...         ...   \n",
       "2838           0.020415     -0.013871         0.092637   -0.044067   \n",
       "2839           0.133070      1.111323         0.231691    1.017562   \n",
       "2840           0.054347     -0.031721         0.007832    0.168562   \n",
       "2841          -0.154394      0.330311         0.239880    0.611596   \n",
       "2842           0.139124      0.526447         0.001807    0.067841   \n",
       "\n",
       "      percent_owned  percent_rented  med_value  med_hh_age  med_hh_residence  \\\n",
       "0         -0.097196        3.020267   0.011581   -0.026547         -0.016797   \n",
       "1          0.056192       -0.058296   0.092322    0.017935          0.022222   \n",
       "2         -0.039718        0.446377  -0.025644   -0.091655         -0.023268   \n",
       "3         -0.054427        0.139137   0.066512    0.068320         -0.101504   \n",
       "4         -0.185730        1.482936   0.004031   -0.021844         -0.050903   \n",
       "...             ...             ...        ...         ...               ...   \n",
       "2838      -0.072335        3.880733  -0.023403   -0.001047         -0.023516   \n",
       "2839       0.069650       -0.020859  -0.036373    0.047410          0.066667   \n",
       "2840       0.043006       -0.038730   0.090462   -0.022576         -0.033905   \n",
       "2841      -0.154309        0.000000   0.079859   -0.073109         -0.094498   \n",
       "2842       0.010377        0.052080   0.024687    0.006843          0.000585   \n",
       "\n",
       "      Proportion_citibike_rides  num_trees  gentrified  \n",
       "0                           0.0   0.040706           1  \n",
       "1                           0.0   0.039867           1  \n",
       "2                           0.0   0.099676           0  \n",
       "3                           0.0   0.057602           0  \n",
       "4                           0.0   0.076535           1  \n",
       "...                         ...        ...         ...  \n",
       "2838                        0.0   0.051320           1  \n",
       "2839                        0.0   0.038259           1  \n",
       "2840                        0.0   0.040412           1  \n",
       "2841                        0.0  -0.047127           1  \n",
       "2842                        0.0  -0.019623           1  \n",
       "\n",
       "[2843 rows x 20 columns]"
      ]
     },
     "execution_count": 247,
     "metadata": {},
     "output_type": "execute_result"
    }
   ],
   "source": [
    "df_model = df.reset_index().merge(pct_chg.reset_index()[['gentrified','full_tract']], on='full_tract', how='left')\n",
    "df_model"
   ]
  },
  {
   "cell_type": "markdown",
   "id": "2ace2314-edce-4e03-8ce7-cbf6316e5ea4",
   "metadata": {},
   "source": [
    "# Modeling"
   ]
  },
  {
   "cell_type": "code",
   "execution_count": 267,
   "id": "7ab8baba-cf9c-4618-8c6e-7beb3deeab34",
   "metadata": {},
   "outputs": [
    {
     "data": {
      "text/plain": [
       "(2243, 9)"
      ]
     },
     "execution_count": 267,
     "metadata": {},
     "output_type": "execute_result"
    }
   ],
   "source": [
    "# define feature set\n",
    "# 'percent_white','med_income','percent_bachelors'\n",
    "feat = ['percent_grad', 'percent_instate', 'percent_owned', 'percent_rented', 'med_value','med_hh_age',\n",
    "       'med_hh_residence','Proportion_citibike_rides', 'num_trees']\n",
    "\n",
    "# split the data\n",
    "test = df_model.sample(600)\n",
    "train = df_model[df_model.index.isin(test.index)==False]\n",
    "\n",
    "y_train = train['gentrified']\n",
    "y_test = test['gentrified']\n",
    "X_train = train[feat]\n",
    "X_test = test[feat]\n",
    "\n",
    "X_train.shape"
   ]
  },
  {
   "cell_type": "code",
   "execution_count": 268,
   "id": "32ee4d0c-77d9-47ed-9edc-2a90d1160599",
   "metadata": {},
   "outputs": [
    {
     "name": "stdout",
     "output_type": "stream",
     "text": [
      "Train Precision: 0.7025423728813559\n",
      "Test Precision: 0.6547231270358306\n"
     ]
    },
    {
     "name": "stderr",
     "output_type": "stream",
     "text": [
      "/Library/Frameworks/Python.framework/Versions/3.12/lib/python3.12/site-packages/sklearn/linear_model/_logistic.py:469: ConvergenceWarning: lbfgs failed to converge (status=1):\n",
      "STOP: TOTAL NO. of ITERATIONS REACHED LIMIT.\n",
      "\n",
      "Increase the number of iterations (max_iter) or scale the data as shown in:\n",
      "    https://scikit-learn.org/stable/modules/preprocessing.html\n",
      "Please also refer to the documentation for alternative solver options:\n",
      "    https://scikit-learn.org/stable/modules/linear_model.html#logistic-regression\n",
      "  n_iter_i = _check_optimize_result(\n"
     ]
    }
   ],
   "source": [
    "model = LogisticRegression()\n",
    "model.fit(X_train, y_train)\n",
    "\n",
    "y_train_pred = model.predict(X_train)\n",
    "y_test_pred = model.predict(X_test)\n",
    "\n",
    "train_acc = recall_score(y_train, y_train_pred)\n",
    "test_acc =  recall_score(y_test, y_test_pred)\n",
    "print(\"Train Precision:\", train_acc)\n",
    "print(\"Test Precision:\", test_acc)\n",
    "\n",
    "\n"
   ]
  },
  {
   "cell_type": "code",
   "execution_count": null,
   "id": "4c2e60e3-678c-4dc4-a891-195194ec9c70",
   "metadata": {},
   "outputs": [],
   "source": []
  },
  {
   "cell_type": "code",
   "execution_count": null,
   "id": "cccc6ca5-1d62-4f1a-b99f-71b10116ebfe",
   "metadata": {},
   "outputs": [],
   "source": []
  }
 ],
 "metadata": {
  "kernelspec": {
   "display_name": "Python 3 (ipykernel)",
   "language": "python",
   "name": "python3"
  },
  "language_info": {
   "codemirror_mode": {
    "name": "ipython",
    "version": 3
   },
   "file_extension": ".py",
   "mimetype": "text/x-python",
   "name": "python",
   "nbconvert_exporter": "python",
   "pygments_lexer": "ipython3",
   "version": "3.12.2"
  }
 },
 "nbformat": 4,
 "nbformat_minor": 5
}

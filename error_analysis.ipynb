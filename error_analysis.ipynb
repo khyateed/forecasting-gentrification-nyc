{
 "cells": [
  {
   "cell_type": "markdown",
   "id": "4e310842-3d24-40d9-9bf3-90466186ee35",
   "metadata": {},
   "source": [
    "# Error Analysis \n",
    "Did tracts falsely predicted as \"gentrifying\" for a given year, go on to gentrify in the future?"
   ]
  },
  {
   "cell_type": "code",
   "execution_count": 1,
   "id": "713d63ea-44cb-46ee-8a98-4e9058df05d2",
   "metadata": {},
   "outputs": [],
   "source": [
    "import matplotlib.pyplot as plt\n",
    "import seaborn as sns\n",
    "import pandas as pd\n",
    "import numpy as np\n",
    "import geopandas as gpd\n",
    "\n",
    "import sys\n",
    "sys.path.insert(0, './')\n",
    "from functions import *\n",
    "pd.set_option('display.max_columns', None)\n",
    "import warnings\n",
    "warnings.filterwarnings('ignore')"
   ]
  },
  {
   "cell_type": "code",
   "execution_count": 2,
   "id": "bbdccb1a-3237-46ce-96ef-f2084ee1eec9",
   "metadata": {},
   "outputs": [],
   "source": [
    "df = pd.read_parquet(\"Data/Cleaned/after_kriging.parquet\")\n",
    "features = pd.read_parquet(\"Data/Cleaned/post_feat_engineering.parquet\")\n",
    "labels = pd.read_parquet(\"Data/Cleaned/labels_may5.parquet\")\n",
    "future_preds = pd.read_parquet(\"Data/Cleaned/future_preds.parquet\")\n",
    "\n",
    "preds20 = pd.read_parquet(\"Data/Cleaned/2020_preds.parquet\")\n",
    "preds21 = pd.read_parquet(\"Data/Cleaned/2021_preds.parquet\")\n",
    "preds22 = pd.read_parquet(\"Data/Cleaned/2022_preds.parquet\")\n",
    "preds23 = pd.read_parquet(\"Data/Cleaned/2023_preds.parquet\")"
   ]
  },
  {
   "cell_type": "markdown",
   "id": "87f4c075-c82f-4091-941b-841060199644",
   "metadata": {},
   "source": [
    "\n",
    "## For 2020 Preds"
   ]
  },
  {
   "cell_type": "code",
   "execution_count": 3,
   "id": "472f525a-3bba-4ab2-986a-6d5fafad0dc3",
   "metadata": {},
   "outputs": [],
   "source": [
    "# join all the yearly preds together\n",
    "preds20 = preds20[['GEOID','label','preds']].rename(columns={'preds':'preds2020', 'label':'label2020'})\n",
    "preds = preds20.merge(preds21[['label', 'GEOID']], on='GEOID').rename(columns={'label':'labels2021'})\n",
    "preds = preds.merge(preds22[['label', 'GEOID']], on='GEOID').rename(columns={'label':'labels2022'})\n",
    "preds = preds.merge(preds23[['label', 'GEOID']], on='GEOID').rename(columns={'label':'labels2023'})\n",
    "preds.drop(preds[preds.label2020==0].index, inplace=True) # drop non-eligible tracts\n",
    "\n",
    "# label false pos and true neg in new column\n",
    "preds['TN'] = np.where((preds.label2020==1)&(preds.preds2020==1),1,0)\n",
    "preds['FP'] = np.where((preds.label2020==1)&(preds.preds2020==2),1,0)"
   ]
  },
  {
   "cell_type": "code",
   "execution_count": 4,
   "id": "364d2164-4979-492f-b366-82d5d180fb25",
   "metadata": {},
   "outputs": [],
   "source": [
    "# new column to flag tracts that gentrified ANYTIME AFTER 2020\n",
    "preds['gentrified_later'] = np.where(((preds['labels2021'].isin([0,2]))|\n",
    "                                     (preds['labels2022'].isin([0,2]))|\n",
    "                                     (preds['labels2023'].isin([0,2]))),1,0)\n"
   ]
  },
  {
   "cell_type": "code",
   "execution_count": 256,
   "id": "b41c81ac-620e-4c1d-b3f1-4de38ca95fb4",
   "metadata": {},
   "outputs": [
    {
     "data": {
      "text/plain": [
       "labels2021\n",
       "1    60\n",
       "2    14\n",
       "0     9\n",
       "Name: count, dtype: int64"
      ]
     },
     "execution_count": 256,
     "metadata": {},
     "output_type": "execute_result"
    }
   ],
   "source": [
    "# how many FP's ended up gentrifying in 2021?\n",
    "fp[\"labels2021\"].value_counts()\n"
   ]
  },
  {
   "cell_type": "code",
   "execution_count": 309,
   "id": "e80d2e7b-202e-4f74-8d3c-626ff0f15909",
   "metadata": {},
   "outputs": [
    {
     "data": {
      "text/plain": [
       "labels2021\n",
       "1    304\n",
       "0     33\n",
       "2     20\n",
       "Name: count, dtype: int64"
      ]
     },
     "execution_count": 309,
     "metadata": {},
     "output_type": "execute_result"
    }
   ],
   "source": [
    "# how many TN's ended up gentrifying in 2021?\n",
    "tn[\"labels2021\"].value_counts()"
   ]
  },
  {
   "cell_type": "code",
   "execution_count": 310,
   "id": "33fcb671-e2a7-46de-b6ec-a9d1e8d4965f",
   "metadata": {},
   "outputs": [
    {
     "data": {
      "text/plain": [
       "gentrified_21_22\n",
       "0    50\n",
       "1    33\n",
       "Name: count, dtype: int64"
      ]
     },
     "execution_count": 310,
     "metadata": {},
     "output_type": "execute_result"
    }
   ],
   "source": [
    "# how many FP's ended up gentrifying in 2021 or 2022?\n",
    "preds['gentrified_21_22'] = np.where(((preds['labels2021'].isin([0,2]))|\n",
    "                                      ((preds['labels2022'].isin([0,2])))),1,0)\n",
    "fp = preds[(preds.FP==1)]\n",
    "fp[\"gentrified_21_22\"].value_counts()"
   ]
  },
  {
   "cell_type": "code",
   "execution_count": 311,
   "id": "21261c79-9fa8-48eb-86a8-ab0daca3b8ea",
   "metadata": {},
   "outputs": [
    {
     "data": {
      "text/plain": [
       "gentrified_21_22\n",
       "0    281\n",
       "1     76\n",
       "Name: count, dtype: int64"
      ]
     },
     "execution_count": 311,
     "metadata": {},
     "output_type": "execute_result"
    }
   ],
   "source": [
    "# how many TN's ended up gentrifying in 2021 or 2022?\n",
    "tn = preds[(preds.TN==1)]\n",
    "tn[\"gentrified_21_22\"].value_counts()"
   ]
  },
  {
   "cell_type": "code",
   "execution_count": 32,
   "id": "41c0146e-8809-4ecb-96aa-3d440363e4e7",
   "metadata": {},
   "outputs": [
    {
     "data": {
      "text/plain": [
       "gentrified_later\n",
       "0    44\n",
       "1    39\n",
       "Name: count, dtype: int64"
      ]
     },
     "execution_count": 32,
     "metadata": {},
     "output_type": "execute_result"
    }
   ],
   "source": [
    "# how many FP's ended up gentrifying later?\n",
    "fp = preds[(preds.FP==1)]\n",
    "fp[\"gentrified_later\"].value_counts()\n"
   ]
  },
  {
   "cell_type": "code",
   "execution_count": 33,
   "id": "f389099e-89e4-4de3-ae48-71339026d013",
   "metadata": {},
   "outputs": [
    {
     "data": {
      "text/plain": [
       "gentrified_later\n",
       "0    257\n",
       "1    100\n",
       "Name: count, dtype: int64"
      ]
     },
     "execution_count": 33,
     "metadata": {},
     "output_type": "execute_result"
    }
   ],
   "source": [
    "# how many TN's ended up gentrifying later?\n",
    "tn = preds[(preds.TN==1)]\n",
    "tn[\"gentrified_later\"].value_counts()"
   ]
  },
  {
   "cell_type": "markdown",
   "id": "42b13597-d038-45ee-a5e9-fef8336587e1",
   "metadata": {},
   "source": [
    "### Compare FP's to TN's"
   ]
  },
  {
   "cell_type": "code",
   "execution_count": 34,
   "id": "cc34b747-dfc8-4743-94d3-dcd11611165f",
   "metadata": {},
   "outputs": [
    {
     "data": {
      "text/html": [
       "<div>\n",
       "<style scoped>\n",
       "    .dataframe tbody tr th:only-of-type {\n",
       "        vertical-align: middle;\n",
       "    }\n",
       "\n",
       "    .dataframe tbody tr th {\n",
       "        vertical-align: top;\n",
       "    }\n",
       "\n",
       "    .dataframe thead th {\n",
       "        text-align: right;\n",
       "    }\n",
       "</style>\n",
       "<table border=\"1\" class=\"dataframe\">\n",
       "  <thead>\n",
       "    <tr style=\"text-align: right;\">\n",
       "      <th></th>\n",
       "      <th>fp</th>\n",
       "      <th>tn</th>\n",
       "    </tr>\n",
       "  </thead>\n",
       "  <tbody>\n",
       "    <tr>\n",
       "      <th>total_pop</th>\n",
       "      <td>0.009811</td>\n",
       "      <td>0.013410</td>\n",
       "    </tr>\n",
       "    <tr>\n",
       "      <th>percent_hh_income_assist</th>\n",
       "      <td>0.065260</td>\n",
       "      <td>0.075437</td>\n",
       "    </tr>\n",
       "    <tr>\n",
       "      <th>percent_hh_snap</th>\n",
       "      <td>0.053659</td>\n",
       "      <td>0.053860</td>\n",
       "    </tr>\n",
       "    <tr>\n",
       "      <th>percent_hh_english</th>\n",
       "      <td>0.020028</td>\n",
       "      <td>0.004338</td>\n",
       "    </tr>\n",
       "    <tr>\n",
       "      <th>percent_work_agriculture</th>\n",
       "      <td>-0.003441</td>\n",
       "      <td>-0.003461</td>\n",
       "    </tr>\n",
       "    <tr>\n",
       "      <th>percent_work_construction</th>\n",
       "      <td>0.058394</td>\n",
       "      <td>0.111250</td>\n",
       "    </tr>\n",
       "    <tr>\n",
       "      <th>percent_work_retail</th>\n",
       "      <td>0.016648</td>\n",
       "      <td>0.073598</td>\n",
       "    </tr>\n",
       "    <tr>\n",
       "      <th>percent_work_finance</th>\n",
       "      <td>0.058620</td>\n",
       "      <td>0.060854</td>\n",
       "    </tr>\n",
       "    <tr>\n",
       "      <th>percent_work_stem</th>\n",
       "      <td>0.151619</td>\n",
       "      <td>0.068123</td>\n",
       "    </tr>\n",
       "    <tr>\n",
       "      <th>percent_work_edu_health</th>\n",
       "      <td>0.013608</td>\n",
       "      <td>0.013082</td>\n",
       "    </tr>\n",
       "    <tr>\n",
       "      <th>percent_work_art</th>\n",
       "      <td>0.079929</td>\n",
       "      <td>0.105316</td>\n",
       "    </tr>\n",
       "    <tr>\n",
       "      <th>percent_out_of_county</th>\n",
       "      <td>0.458923</td>\n",
       "      <td>0.307884</td>\n",
       "    </tr>\n",
       "    <tr>\n",
       "      <th>percent_moved_within_county</th>\n",
       "      <td>0.125981</td>\n",
       "      <td>0.059535</td>\n",
       "    </tr>\n",
       "    <tr>\n",
       "      <th>percent_public_transit</th>\n",
       "      <td>0.020773</td>\n",
       "      <td>0.012213</td>\n",
       "    </tr>\n",
       "    <tr>\n",
       "      <th>percent_drive_commute</th>\n",
       "      <td>0.010216</td>\n",
       "      <td>-0.000921</td>\n",
       "    </tr>\n",
       "    <tr>\n",
       "      <th>percent_bike_commute</th>\n",
       "      <td>0.144370</td>\n",
       "      <td>0.036392</td>\n",
       "    </tr>\n",
       "    <tr>\n",
       "      <th>percent_walk_commute</th>\n",
       "      <td>0.124510</td>\n",
       "      <td>0.081423</td>\n",
       "    </tr>\n",
       "    <tr>\n",
       "      <th>percent_wfh</th>\n",
       "      <td>0.144337</td>\n",
       "      <td>0.111167</td>\n",
       "    </tr>\n",
       "    <tr>\n",
       "      <th>percent_white</th>\n",
       "      <td>0.084443</td>\n",
       "      <td>0.000302</td>\n",
       "    </tr>\n",
       "    <tr>\n",
       "      <th>percent_black</th>\n",
       "      <td>0.034523</td>\n",
       "      <td>0.027128</td>\n",
       "    </tr>\n",
       "    <tr>\n",
       "      <th>percent_native</th>\n",
       "      <td>-0.001648</td>\n",
       "      <td>0.084036</td>\n",
       "    </tr>\n",
       "    <tr>\n",
       "      <th>percent_asian</th>\n",
       "      <td>0.191597</td>\n",
       "      <td>0.223352</td>\n",
       "    </tr>\n",
       "    <tr>\n",
       "      <th>percent_pacific</th>\n",
       "      <td>-0.014313</td>\n",
       "      <td>0.212125</td>\n",
       "    </tr>\n",
       "    <tr>\n",
       "      <th>percent_latino</th>\n",
       "      <td>0.037226</td>\n",
       "      <td>0.014478</td>\n",
       "    </tr>\n",
       "    <tr>\n",
       "      <th>percent_bachelors</th>\n",
       "      <td>0.088389</td>\n",
       "      <td>0.049648</td>\n",
       "    </tr>\n",
       "    <tr>\n",
       "      <th>percent_grad</th>\n",
       "      <td>0.171998</td>\n",
       "      <td>0.160453</td>\n",
       "    </tr>\n",
       "    <tr>\n",
       "      <th>percent_born_citizen</th>\n",
       "      <td>0.006510</td>\n",
       "      <td>0.001628</td>\n",
       "    </tr>\n",
       "    <tr>\n",
       "      <th>percent_naturalized_citizen</th>\n",
       "      <td>0.036820</td>\n",
       "      <td>0.031156</td>\n",
       "    </tr>\n",
       "    <tr>\n",
       "      <th>percent_not_citizen</th>\n",
       "      <td>-0.001629</td>\n",
       "      <td>0.010414</td>\n",
       "    </tr>\n",
       "    <tr>\n",
       "      <th>percent_same_house_1yr</th>\n",
       "      <td>0.001834</td>\n",
       "      <td>0.003394</td>\n",
       "    </tr>\n",
       "    <tr>\n",
       "      <th>percent_out_of_state</th>\n",
       "      <td>0.199178</td>\n",
       "      <td>0.035205</td>\n",
       "    </tr>\n",
       "    <tr>\n",
       "      <th>med_income</th>\n",
       "      <td>0.033296</td>\n",
       "      <td>0.012156</td>\n",
       "    </tr>\n",
       "    <tr>\n",
       "      <th>med_rent_acs</th>\n",
       "      <td>0.032258</td>\n",
       "      <td>0.025874</td>\n",
       "    </tr>\n",
       "    <tr>\n",
       "      <th>med_age</th>\n",
       "      <td>0.011324</td>\n",
       "      <td>0.005332</td>\n",
       "    </tr>\n",
       "    <tr>\n",
       "      <th>percent_hh_rented</th>\n",
       "      <td>3.704436</td>\n",
       "      <td>9.372874</td>\n",
       "    </tr>\n",
       "    <tr>\n",
       "      <th>med_value</th>\n",
       "      <td>0.066285</td>\n",
       "      <td>0.090639</td>\n",
       "    </tr>\n",
       "    <tr>\n",
       "      <th>percent_hh_electric</th>\n",
       "      <td>0.161512</td>\n",
       "      <td>0.110803</td>\n",
       "    </tr>\n",
       "    <tr>\n",
       "      <th>percent_hh_solar</th>\n",
       "      <td>0.004696</td>\n",
       "      <td>0.189481</td>\n",
       "    </tr>\n",
       "    <tr>\n",
       "      <th>med_hh_age</th>\n",
       "      <td>-0.002949</td>\n",
       "      <td>0.002474</td>\n",
       "    </tr>\n",
       "    <tr>\n",
       "      <th>med_hh_tenure</th>\n",
       "      <td>-0.031024</td>\n",
       "      <td>-0.034450</td>\n",
       "    </tr>\n",
       "    <tr>\n",
       "      <th>num_citibike_rides</th>\n",
       "      <td>0.233762</td>\n",
       "      <td>0.058911</td>\n",
       "    </tr>\n",
       "    <tr>\n",
       "      <th>num_trees</th>\n",
       "      <td>0.036705</td>\n",
       "      <td>0.036434</td>\n",
       "    </tr>\n",
       "    <tr>\n",
       "      <th>med_rent</th>\n",
       "      <td>0.022822</td>\n",
       "      <td>0.023127</td>\n",
       "    </tr>\n",
       "    <tr>\n",
       "      <th>num_affordable_hous_built</th>\n",
       "      <td>-0.192269</td>\n",
       "      <td>-0.173023</td>\n",
       "    </tr>\n",
       "    <tr>\n",
       "      <th>num_bikelanes</th>\n",
       "      <td>0.194363</td>\n",
       "      <td>0.085846</td>\n",
       "    </tr>\n",
       "    <tr>\n",
       "      <th>num_evictions_commercial</th>\n",
       "      <td>0.020325</td>\n",
       "      <td>0.036619</td>\n",
       "    </tr>\n",
       "    <tr>\n",
       "      <th>num_evictions_residential</th>\n",
       "      <td>0.115365</td>\n",
       "      <td>0.120788</td>\n",
       "    </tr>\n",
       "    <tr>\n",
       "      <th>park_acres</th>\n",
       "      <td>0.000400</td>\n",
       "      <td>0.000925</td>\n",
       "    </tr>\n",
       "    <tr>\n",
       "      <th>num_parks</th>\n",
       "      <td>0.009615</td>\n",
       "      <td>0.005146</td>\n",
       "    </tr>\n",
       "    <tr>\n",
       "      <th>lag_vulnerable</th>\n",
       "      <td>0.760816</td>\n",
       "      <td>0.744327</td>\n",
       "    </tr>\n",
       "    <tr>\n",
       "      <th>lag_ever_gentrified</th>\n",
       "      <td>2.000000</td>\n",
       "      <td>2.000000</td>\n",
       "    </tr>\n",
       "    <tr>\n",
       "      <th>ever_gentrified</th>\n",
       "      <td>-1.000000</td>\n",
       "      <td>-1.000000</td>\n",
       "    </tr>\n",
       "    <tr>\n",
       "      <th>label</th>\n",
       "      <td>1.000000</td>\n",
       "      <td>1.000000</td>\n",
       "    </tr>\n",
       "    <tr>\n",
       "      <th>preds</th>\n",
       "      <td>2.000000</td>\n",
       "      <td>1.000000</td>\n",
       "    </tr>\n",
       "  </tbody>\n",
       "</table>\n",
       "</div>"
      ],
      "text/plain": [
       "                                   fp        tn\n",
       "total_pop                    0.009811  0.013410\n",
       "percent_hh_income_assist     0.065260  0.075437\n",
       "percent_hh_snap              0.053659  0.053860\n",
       "percent_hh_english           0.020028  0.004338\n",
       "percent_work_agriculture    -0.003441 -0.003461\n",
       "percent_work_construction    0.058394  0.111250\n",
       "percent_work_retail          0.016648  0.073598\n",
       "percent_work_finance         0.058620  0.060854\n",
       "percent_work_stem            0.151619  0.068123\n",
       "percent_work_edu_health      0.013608  0.013082\n",
       "percent_work_art             0.079929  0.105316\n",
       "percent_out_of_county        0.458923  0.307884\n",
       "percent_moved_within_county  0.125981  0.059535\n",
       "percent_public_transit       0.020773  0.012213\n",
       "percent_drive_commute        0.010216 -0.000921\n",
       "percent_bike_commute         0.144370  0.036392\n",
       "percent_walk_commute         0.124510  0.081423\n",
       "percent_wfh                  0.144337  0.111167\n",
       "percent_white                0.084443  0.000302\n",
       "percent_black                0.034523  0.027128\n",
       "percent_native              -0.001648  0.084036\n",
       "percent_asian                0.191597  0.223352\n",
       "percent_pacific             -0.014313  0.212125\n",
       "percent_latino               0.037226  0.014478\n",
       "percent_bachelors            0.088389  0.049648\n",
       "percent_grad                 0.171998  0.160453\n",
       "percent_born_citizen         0.006510  0.001628\n",
       "percent_naturalized_citizen  0.036820  0.031156\n",
       "percent_not_citizen         -0.001629  0.010414\n",
       "percent_same_house_1yr       0.001834  0.003394\n",
       "percent_out_of_state         0.199178  0.035205\n",
       "med_income                   0.033296  0.012156\n",
       "med_rent_acs                 0.032258  0.025874\n",
       "med_age                      0.011324  0.005332\n",
       "percent_hh_rented            3.704436  9.372874\n",
       "med_value                    0.066285  0.090639\n",
       "percent_hh_electric          0.161512  0.110803\n",
       "percent_hh_solar             0.004696  0.189481\n",
       "med_hh_age                  -0.002949  0.002474\n",
       "med_hh_tenure               -0.031024 -0.034450\n",
       "num_citibike_rides           0.233762  0.058911\n",
       "num_trees                    0.036705  0.036434\n",
       "med_rent                     0.022822  0.023127\n",
       "num_affordable_hous_built   -0.192269 -0.173023\n",
       "num_bikelanes                0.194363  0.085846\n",
       "num_evictions_commercial     0.020325  0.036619\n",
       "num_evictions_residential    0.115365  0.120788\n",
       "park_acres                   0.000400  0.000925\n",
       "num_parks                    0.009615  0.005146\n",
       "lag_vulnerable               0.760816  0.744327\n",
       "lag_ever_gentrified          2.000000  2.000000\n",
       "ever_gentrified             -1.000000 -1.000000\n",
       "label                        1.000000  1.000000\n",
       "preds                        2.000000  1.000000"
      ]
     },
     "execution_count": 34,
     "metadata": {},
     "output_type": "execute_result"
    }
   ],
   "source": [
    "# Compare TN's to FP's\n",
    "fp_ids = fp[fp.gentrified_later==1]['GEOID']\n",
    "tn_ids = tn[tn.gentrified_later==0]['GEOID']\n",
    "preds20 = pd.read_parquet(\"Data/Cleaned/2020_preds.parquet\")\n",
    "\n",
    "fp = preds20[preds20.GEOID.isin(fp_ids)]\n",
    "tn = preds20[preds20.GEOID.isin(tn_ids)]\n",
    "\n",
    "# look at feature values for each of these two groups\n",
    "fp_mean = fp.drop(['GEOID','pred_year'],axis=1).mean()\n",
    "fp_mean.name='fp'\n",
    "tn_mean = tn.drop(['GEOID','pred_year'],axis=1).mean()\n",
    "tn_mean.name='tn'\n",
    "\n",
    "diffs = pd.concat([fp_mean,tn_mean], axis=1)\n",
    "# diffs.to_csv(\"Data/Cleaned/TN_vs_FP.csv\")\n",
    "diffs\n"
   ]
  },
  {
   "cell_type": "markdown",
   "id": "681a9b98-061f-4167-9f31-8037449a4617",
   "metadata": {},
   "source": [
    "## For 2021 Preds"
   ]
  },
  {
   "cell_type": "code",
   "execution_count": 321,
   "id": "aadc3ea0-66a7-44da-b64c-ab0e859d19c2",
   "metadata": {},
   "outputs": [],
   "source": [
    "# join all the yearly preds together\n",
    "preds21 = preds21[['GEOID','label','preds']].rename(columns={'preds':'preds2021', 'label':'label2021'})\n",
    "preds = preds21.merge(preds22[['label', 'GEOID']], on='GEOID').rename(columns={'label':'labels2022'})\n",
    "preds = preds.merge(preds23[['label', 'GEOID']], on='GEOID').rename(columns={'label':'labels2023'})\n",
    "preds.drop(preds[preds.label2021==0].index, inplace=True) # drop non-eligible tracts\n",
    "\n",
    "# label false pos and false neg in new column\n",
    "preds['TN'] = np.where((preds.label2021==1)&(preds.preds2021==1),1,0)\n",
    "preds['FP'] = np.where((preds.label2021==1)&(preds.preds2021==2),1,0)"
   ]
  },
  {
   "cell_type": "code",
   "execution_count": 322,
   "id": "87135001-e34f-4019-a12c-85bde1ad36c1",
   "metadata": {},
   "outputs": [],
   "source": [
    "# new column to flag tracts that gentrified ANYTIME AFTER 2021\n",
    "preds['gentrified_later'] = np.where(((preds['labels2022'].isin([0,2]))|\n",
    "                                     (preds['labels2023'].isin([0,2]))),1,0)"
   ]
  },
  {
   "cell_type": "code",
   "execution_count": 323,
   "id": "96fed956-6def-4027-891e-302b197bd77d",
   "metadata": {},
   "outputs": [
    {
     "data": {
      "text/plain": [
       "gentrified_later\n",
       "1    17\n",
       "0    16\n",
       "Name: count, dtype: int64"
      ]
     },
     "execution_count": 323,
     "metadata": {},
     "output_type": "execute_result"
    }
   ],
   "source": [
    "# how many FP's ended up gentrifying later?\n",
    "fp = preds[(preds.FP==1)]\n",
    "fp[\"gentrified_later\"].value_counts()"
   ]
  },
  {
   "cell_type": "code",
   "execution_count": 324,
   "id": "810604c7-1aa2-46df-891f-bcc531cbe3bc",
   "metadata": {},
   "outputs": [
    {
     "data": {
      "text/plain": [
       "gentrified_later\n",
       "0    337\n",
       "1     89\n",
       "Name: count, dtype: int64"
      ]
     },
     "execution_count": 324,
     "metadata": {},
     "output_type": "execute_result"
    }
   ],
   "source": [
    "# how many TN's ended up gentrifying later?\n",
    "tn = preds[(preds.TN==1)]\n",
    "tn[\"gentrified_later\"].value_counts()"
   ]
  },
  {
   "cell_type": "code",
   "execution_count": 325,
   "id": "a93ab6bf-65b4-4c26-9abc-9a064f105089",
   "metadata": {},
   "outputs": [
    {
     "data": {
      "text/plain": [
       "labels2022\n",
       "1    17\n",
       "2    13\n",
       "0     3\n",
       "Name: count, dtype: int64"
      ]
     },
     "execution_count": 325,
     "metadata": {},
     "output_type": "execute_result"
    }
   ],
   "source": [
    "# how many FP's ended up gentrifying in 2022?\n",
    "fp[\"labels2022\"].value_counts()"
   ]
  },
  {
   "cell_type": "code",
   "execution_count": 326,
   "id": "18bc0e2a-043c-4af2-b183-24af2dca81cd",
   "metadata": {},
   "outputs": [
    {
     "data": {
      "text/plain": [
       "labels2022\n",
       "1    378\n",
       "0     28\n",
       "2     20\n",
       "Name: count, dtype: int64"
      ]
     },
     "execution_count": 326,
     "metadata": {},
     "output_type": "execute_result"
    }
   ],
   "source": [
    "# how many TN's ended up gentrifying in 2022?\n",
    "tn[\"labels2022\"].value_counts()"
   ]
  },
  {
   "cell_type": "markdown",
   "id": "baf344b6-23f3-4aff-b6b1-a6da80eeb1ea",
   "metadata": {},
   "source": [
    "### For 2022 Preds"
   ]
  },
  {
   "cell_type": "code",
   "execution_count": 327,
   "id": "42bc6ebb-9348-4b40-9437-92ed2ae8ad65",
   "metadata": {},
   "outputs": [],
   "source": [
    "# join all the yearly preds together\n",
    "preds22 = preds22[['GEOID','label','preds']].rename(columns={'preds':'preds2022', 'label':'label2022'})\n",
    "preds = preds22.merge(preds23[['label', 'GEOID']], on='GEOID').rename(columns={'label':'labels2023'})\n",
    "preds.drop(preds[preds.label2022==0].index, inplace=True) # drop non-eligible tracts\n",
    "\n",
    "# label false pos and false neg in new column\n",
    "preds['TN'] = np.where((preds.label2022==1)&(preds.preds2022==1),1,0)\n",
    "preds['FP'] = np.where((preds.label2022==1)&(preds.preds2022==2),1,0)"
   ]
  },
  {
   "cell_type": "code",
   "execution_count": 328,
   "id": "5e5458ba-1691-4fce-b45b-14a6db0e99d0",
   "metadata": {},
   "outputs": [
    {
     "data": {
      "text/plain": [
       "labels2023\n",
       "1    36\n",
       "2    12\n",
       "0     1\n",
       "Name: count, dtype: int64"
      ]
     },
     "execution_count": 328,
     "metadata": {},
     "output_type": "execute_result"
    }
   ],
   "source": [
    "# how many FP's ended up gentrifying in 2023?\n",
    "fp = preds[(preds.FP==1)]\n",
    "fp[\"labels2023\"].value_counts()"
   ]
  },
  {
   "cell_type": "code",
   "execution_count": 329,
   "id": "2f8d373b-fd4b-45e5-bd42-5b8dbe400696",
   "metadata": {},
   "outputs": [
    {
     "data": {
      "text/plain": [
       "labels2023\n",
       "1    373\n",
       "0     33\n",
       "2     20\n",
       "Name: count, dtype: int64"
      ]
     },
     "execution_count": 329,
     "metadata": {},
     "output_type": "execute_result"
    }
   ],
   "source": [
    "# how many TN's ended up gentrifying in 2023?\n",
    "tn = preds[(preds.TN==1)]\n",
    "tn[\"labels2023\"].value_counts()"
   ]
  },
  {
   "cell_type": "code",
   "execution_count": null,
   "id": "a71c5333-a068-466c-b2d3-94e30b2ab52e",
   "metadata": {},
   "outputs": [],
   "source": []
  }
 ],
 "metadata": {
  "kernelspec": {
   "display_name": "Python 3 (ipykernel)",
   "language": "python",
   "name": "python3"
  },
  "language_info": {
   "codemirror_mode": {
    "name": "ipython",
    "version": 3
   },
   "file_extension": ".py",
   "mimetype": "text/x-python",
   "name": "python",
   "nbconvert_exporter": "python",
   "pygments_lexer": "ipython3",
   "version": "3.12.2"
  }
 },
 "nbformat": 4,
 "nbformat_minor": 5
}
